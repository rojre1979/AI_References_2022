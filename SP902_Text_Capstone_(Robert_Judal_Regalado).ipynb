{
  "nbformat": 4,
  "nbformat_minor": 0,
  "metadata": {
    "colab": {
      "provenance": [],
      "authorship_tag": "ABX9TyMflUoE6W5VWkcQtkySTbV2",
      "include_colab_link": true
    },
    "kernelspec": {
      "name": "python3",
      "display_name": "Python 3"
    },
    "language_info": {
      "name": "python"
    },
    "accelerator": "GPU"
  },
  "cells": [
    {
      "cell_type": "markdown",
      "metadata": {
        "id": "view-in-github",
        "colab_type": "text"
      },
      "source": [
        "<a href=\"https://colab.research.google.com/github/rojre1979/AI_References_2022/blob/main/SP902_Text_Capstone_(Robert_Judal_Regalado).ipynb\" target=\"_parent\"><img src=\"https://colab.research.google.com/assets/colab-badge.svg\" alt=\"Open In Colab\"/></a>"
      ]
    },
    {
      "cell_type": "code",
      "execution_count": 1,
      "metadata": {
        "id": "-cPSL_MXhSs3"
      },
      "outputs": [],
      "source": [
        "from fastai.text.all import *\n",
        "import pandas as pd"
      ]
    },
    {
      "cell_type": "code",
      "source": [
        "text_df = pd.read_csv(\"/content/sample_data/SP902-Text-Capstone.csv\", encoding='latin1')"
      ],
      "metadata": {
        "id": "9gNv0vUviSF9"
      },
      "execution_count": 6,
      "outputs": []
    },
    {
      "cell_type": "code",
      "source": [
        "text_df.columns = ['label','title', 'description']"
      ],
      "metadata": {
        "id": "cjPq2cecjwJd"
      },
      "execution_count": 10,
      "outputs": []
    },
    {
      "cell_type": "code",
      "source": [],
      "metadata": {
        "id": "as44fbuHleqy"
      },
      "execution_count": null,
      "outputs": []
    },
    {
      "cell_type": "code",
      "source": [
        "text_df['label'] = text_df['label'].astype(str)"
      ],
      "metadata": {
        "id": "_ySbd1_ylCaU"
      },
      "execution_count": 13,
      "outputs": []
    },
    {
      "cell_type": "code",
      "source": [
        "text_df.dtypes"
      ],
      "metadata": {
        "colab": {
          "base_uri": "https://localhost:8080/"
        },
        "id": "azRZSvTPiZFf",
        "outputId": "5e5a2115-805c-4f34-db02-d5de2beea696"
      },
      "execution_count": 16,
      "outputs": [
        {
          "output_type": "execute_result",
          "data": {
            "text/plain": [
              "label          object\n",
              "title          object\n",
              "description    object\n",
              "dtype: object"
            ]
          },
          "metadata": {},
          "execution_count": 16
        }
      ]
    },
    {
      "cell_type": "code",
      "source": [
        "dls = TextDataLoaders.from_df(text_df, \n",
        "                                 text_col = 'description', \n",
        "                                 label_col = 'label', \n",
        "                                 valid_pct = 0.20, \n",
        "                                 bs = 64,)"
      ],
      "metadata": {
        "colab": {
          "base_uri": "https://localhost:8080/",
          "height": 17
        },
        "id": "Jj0oTJOmiSOx",
        "outputId": "7acf1e9c-e44c-4ae6-ed4d-beaba7fc8bdf"
      },
      "execution_count": 12,
      "outputs": [
        {
          "output_type": "display_data",
          "data": {
            "text/plain": [
              "<IPython.core.display.HTML object>"
            ],
            "text/html": [
              "\n",
              "<style>\n",
              "    /* Turns off some styling */\n",
              "    progress {\n",
              "        /* gets rid of default border in Firefox and Opera. */\n",
              "        border: none;\n",
              "        /* Needs to be in here for Safari polyfill so background images work as expected. */\n",
              "        background-size: auto;\n",
              "    }\n",
              "    progress:not([value]), progress:not([value])::-webkit-progress-bar {\n",
              "        background: repeating-linear-gradient(45deg, #7e7e7e, #7e7e7e 10px, #5c5c5c 10px, #5c5c5c 20px);\n",
              "    }\n",
              "    .progress-bar-interrupted, .progress-bar-interrupted::-webkit-progress-bar {\n",
              "        background: #F44336;\n",
              "    }\n",
              "</style>\n"
            ]
          },
          "metadata": {}
        },
        {
          "output_type": "display_data",
          "data": {
            "text/plain": [
              "<IPython.core.display.HTML object>"
            ],
            "text/html": []
          },
          "metadata": {}
        }
      ]
    },
    {
      "cell_type": "code",
      "source": [
        "dls = TextDataLoaders.from_df(text_df, \n",
        "                                 text_col = 'description', \n",
        "                                 label_col = 'label', \n",
        "                                 valid_pct = 0.20, \n",
        "                                 bs = 64,)"
      ],
      "metadata": {
        "colab": {
          "base_uri": "https://localhost:8080/",
          "height": 17
        },
        "id": "OSOvnyv0ioln",
        "outputId": "71b4b842-9500-4968-d16a-f5ccca1da287"
      },
      "execution_count": 17,
      "outputs": [
        {
          "output_type": "display_data",
          "data": {
            "text/plain": [
              "<IPython.core.display.HTML object>"
            ],
            "text/html": [
              "\n",
              "<style>\n",
              "    /* Turns off some styling */\n",
              "    progress {\n",
              "        /* gets rid of default border in Firefox and Opera. */\n",
              "        border: none;\n",
              "        /* Needs to be in here for Safari polyfill so background images work as expected. */\n",
              "        background-size: auto;\n",
              "    }\n",
              "    progress:not([value]), progress:not([value])::-webkit-progress-bar {\n",
              "        background: repeating-linear-gradient(45deg, #7e7e7e, #7e7e7e 10px, #5c5c5c 10px, #5c5c5c 20px);\n",
              "    }\n",
              "    .progress-bar-interrupted, .progress-bar-interrupted::-webkit-progress-bar {\n",
              "        background: #F44336;\n",
              "    }\n",
              "</style>\n"
            ]
          },
          "metadata": {}
        },
        {
          "output_type": "display_data",
          "data": {
            "text/plain": [
              "<IPython.core.display.HTML object>"
            ],
            "text/html": []
          },
          "metadata": {}
        }
      ]
    },
    {
      "cell_type": "code",
      "source": [
        "dls.show_batch()"
      ],
      "metadata": {
        "colab": {
          "base_uri": "https://localhost:8080/",
          "height": 1000
        },
        "id": "6igjTX-iiqWu",
        "outputId": "3ce5756f-c133-4f9a-8dbd-a0ffa1ef09a5"
      },
      "execution_count": 18,
      "outputs": [
        {
          "output_type": "display_data",
          "data": {
            "text/plain": [
              "<IPython.core.display.HTML object>"
            ],
            "text/html": [
              "<table border=\"1\" class=\"dataframe\">\n",
              "  <thead>\n",
              "    <tr style=\"text-align: right;\">\n",
              "      <th></th>\n",
              "      <th>text</th>\n",
              "      <th>category</th>\n",
              "    </tr>\n",
              "  </thead>\n",
              "  <tbody>\n",
              "    <tr>\n",
              "      <th>0</th>\n",
              "      <td>xxbos 4 xxmaj miami at xxup n.c . xxmaj state &lt; xxunk p.m. , xxup espn &lt; / em&gt;&lt;br &gt; think the xxmaj wolfpack is kicking itself for that loss two weeks ago at xxmaj north xxmaj carolina ? xxmaj you bet . xxmaj had xxup n.c . xxmaj state ( 4 - 2 , 3 - 1 xxup acc ) won that one , this would be for sole possession of first place in the xxup acc . xxmaj as it is , this is a chance for the xxmaj wolfpack to show it belongs in the upper echelon of the restructured league -- which , for now , is xxmaj miami , xxmaj florida xxmaj state , and a xxunk of also - rans . xxmaj the xxmaj wolfpack 's defense is the best in the nation against the pass ( xxunk yards per game ) and overall</td>\n",
              "      <td>2</td>\n",
              "    </tr>\n",
              "    <tr>\n",
              "      <th>1</th>\n",
              "      <td>xxbos \\ \" now that the country is awash in xxmaj reagan nostalgia , some observers are predicting \\ that you will enter politics . xxmaj would you like to be president of the xxmaj united \\ xxmaj states ? \" \\ \" i would be xxunk . xxmaj i 'm an xxunk . xxmaj as we all know , that is something \\ people wo n't accept . \" \\ \" what would you do if xxmaj senator xxmaj kerry asked you to be his vice president ? \" \\ \" i would question his sanity . \" \\ \" do you ever go to church ? \" \\ \" no . i visit my wife 's xxunk . \" \\ \" so you sometimes practice xxmaj xxunk ? \" \\ \" i do n't claim anything . xxmaj but my xxunk would be in that direction . i</td>\n",
              "      <td>4</td>\n",
              "    </tr>\n",
              "    <tr>\n",
              "      <th>2</th>\n",
              "      <td>xxbos xxmaj following is the xxmaj globe xxmaj top 20 in emass for girls ' soccer . xxmaj no . xxmaj team xxmaj record xxmaj last 1 . xxmaj belmont 14 - 0 - 1 1 2 . xxmaj oliver xxmaj ames 13 - 1 - 0 2 3 . xxmaj lynnfield 15 - 0 - 0 3 4 . xxmaj norwell 15 - 0 - 0 5 5 . xxmaj andover 14 - 1 - 0 4 6 . xxmaj bishop xxmaj feehan 11 - 1 - 1 6 7 . xxmaj old xxmaj rochester 14 - 1 - 1 7 8 . xxmaj marshfield 10 - 1 - 4 9 9 . xxmaj wellesley 9 - 0 - 5 8 10 . xxmaj weymouth 12 - 1 - 2 10 11 . xxmaj rockland …</td>\n",
              "      <td>2</td>\n",
              "    </tr>\n",
              "    <tr>\n",
              "      <th>3</th>\n",
              "      <td>xxbos xxmaj forbes.com - xxmaj walk into the xxmaj urban xxmaj outfitters in xxmaj manhattan 's xxmaj west xxmaj village and you 're tempted to sit down on one of the white vinyl benches near the entrance . xxmaj from there you can admire the antique xxunk with mirrored front , along with champagne xxunk , xxunk shakers and small xxunk xxmaj christmas trees . xxmaj there are plenty of casual clothes for young women and men ( target age : 18 - 30 ) , as well as accessories , furniture , books , gifts , makeup and soaps . xxmaj if you want shoes , you have to go to the back of the store near the registers , where the display is xxunk arranged to resemble a woman 's dressing room .</td>\n",
              "      <td>3</td>\n",
              "    </tr>\n",
              "    <tr>\n",
              "      <th>4</th>\n",
              "      <td>xxbos xxmaj the most pervasive problem in running xxup it is not a specific technology issue at all . xxmaj its dealing with bad vendors . xxmaj even if you have been able to reduce your xxup it operation down to a pure open source environment on the software side , hardware still must be purchased through commercial channels . xxmaj in the post - boom xxup it age , the power has supposedly shifted from vendor to buyer , but xxup it managers continue to be manipulated by vendors who do nt always act in the customers best interest . xxmaj to keep vendors in line , xxup it managers need to stay on the ball and punish bad behavior when it occurs by finding new suppliers .</td>\n",
              "      <td>3</td>\n",
              "    </tr>\n",
              "    <tr>\n",
              "      <th>5</th>\n",
              "      <td>xxbos xxmaj dale xxmaj fuller , president and xxup ceo of xxmaj borland , has been with the company since 1 xxrep 3 9 , when it had temporarily been renamed xxmaj xxunk . xxmaj recently , the company has been touting its xxup alm ( application lifecycle management ) strategy and efforts to provide for a unified , manufacturing - like structure for software development projects . infoworld editor - at - large xxmaj paul xxmaj krill spoke with xxmaj fuller at the borcon conference in xxmaj san xxmaj jose , xxmaj calif . , last week about xxmaj borland 's tools and xxup alm strategies and issues such as xxmaj java vs. .net , xxmaj web services , and outsourcing .</td>\n",
              "      <td>4</td>\n",
              "    </tr>\n",
              "    <tr>\n",
              "      <th>6</th>\n",
              "      <td>xxbos xxmaj pro basketball : xxmaj charlotte vs. xxmaj celtics at the fleetcenter , 7:30 p.m. xxmaj college hockey : xxmaj men -- umass at xxup bc , 7 p.m. ; xxmaj merrimack at xxup bu , 7 p.m. ; xxmaj maine at xxmaj northeastern , 7 p.m. ; xxmaj colgate at umass - lowell , 7 p.m. ; xxmaj princeton at xxmaj brown , 7 p.m. ; xxmaj providence at xxup unh , 7 p.m. ; xxmaj yale at xxmaj harvard , 8 p.m. ; xxup ubs tournament at xxmaj worcester : xxmaj worcester xxmaj st . at xxmaj fitchburg xxmaj st . , 5:30 p.m. ; …</td>\n",
              "      <td>2</td>\n",
              "    </tr>\n",
              "    <tr>\n",
              "      <th>7</th>\n",
              "      <td>xxbos maccentral - xxup idg xxmaj world xxmaj expo on xxmaj wednesday offered details about the xxmaj macintosh xxmaj games xxmaj pavilion , featured at next month 's xxmaj macworld xxmaj conference &amp; xxmaj expo in xxmaj san xxmaj francisco , xxmaj calif . xxmaj the pavilion will feature new games from publishers including xxmaj aspyr xxmaj media , xxunk , xxmaj xxunk xxmaj software and xxmaj ambrosia xxmaj software . xxmaj it 'll also be populated by an xxmaj arcade area where xxunk can get their hands on xxmaj power xxmaj mac xxmaj g5s and imac xxmaj g5s running the latest titles available for the xxmaj macintosh .</td>\n",
              "      <td>4</td>\n",
              "    </tr>\n",
              "    <tr>\n",
              "      <th>8</th>\n",
              "      <td>xxbos xxup today xxup auto xxup racing 2:30 p.m. -- xxup nascar xxmaj busch xxmaj series xxmaj mr . xxmaj xxunk 300 qualifying at xxmaj kansas xxmaj city , xxmaj kan . , xxmaj speed xxmaj channel xxunk p.m. -- xxup nascar xxmaj nextel xxmaj cup xxmaj banquet 400 qualifying at xxmaj kansas xxmaj city , xxmaj kan . , xxmaj speed xxmaj channel 1 a.m. -- xxmaj japanese xxmaj grand xxmaj prix qualifying at xxmaj suzuka , xxmaj speed xxmaj channel xxup pro xxup baseball 4 p.m. -- xxup al xxmaj division xxmaj series : xxmaj red xxmaj sox vs. xxmaj anaheim at xxmaj fenway xxmaj park …</td>\n",
              "      <td>2</td>\n",
              "    </tr>\n",
              "  </tbody>\n",
              "</table>"
            ]
          },
          "metadata": {}
        }
      ]
    },
    {
      "cell_type": "code",
      "source": [
        "learn = text_classifier_learner(dls, \n",
        "                                AWD_LSTM, \n",
        "                                drop_mult=0.5, \n",
        "                                metrics=accuracy)"
      ],
      "metadata": {
        "colab": {
          "base_uri": "https://localhost:8080/",
          "height": 37
        },
        "id": "SigMVoTgisru",
        "outputId": "d401bf5a-5c76-47ca-bfb8-afd6018b73b3"
      },
      "execution_count": 19,
      "outputs": [
        {
          "output_type": "display_data",
          "data": {
            "text/plain": [
              "<IPython.core.display.HTML object>"
            ],
            "text/html": [
              "\n",
              "<style>\n",
              "    /* Turns off some styling */\n",
              "    progress {\n",
              "        /* gets rid of default border in Firefox and Opera. */\n",
              "        border: none;\n",
              "        /* Needs to be in here for Safari polyfill so background images work as expected. */\n",
              "        background-size: auto;\n",
              "    }\n",
              "    progress:not([value]), progress:not([value])::-webkit-progress-bar {\n",
              "        background: repeating-linear-gradient(45deg, #7e7e7e, #7e7e7e 10px, #5c5c5c 10px, #5c5c5c 20px);\n",
              "    }\n",
              "    .progress-bar-interrupted, .progress-bar-interrupted::-webkit-progress-bar {\n",
              "        background: #F44336;\n",
              "    }\n",
              "</style>\n"
            ]
          },
          "metadata": {}
        },
        {
          "output_type": "display_data",
          "data": {
            "text/plain": [
              "<IPython.core.display.HTML object>"
            ],
            "text/html": [
              "\n",
              "    <div>\n",
              "      <progress value='105070592' class='' max='105067061' style='width:300px; height:20px; vertical-align: middle;'></progress>\n",
              "      100.00% [105070592/105067061 00:01&lt;00:00]\n",
              "    </div>\n",
              "    "
            ]
          },
          "metadata": {}
        }
      ]
    },
    {
      "cell_type": "code",
      "source": [
        "best_learning_rate = learn.lr_find()"
      ],
      "metadata": {
        "colab": {
          "base_uri": "https://localhost:8080/",
          "height": 284
        },
        "id": "09jzMTyIitb9",
        "outputId": "00d57e3f-28e6-471d-a74f-3600757f8fd8"
      },
      "execution_count": 20,
      "outputs": [
        {
          "output_type": "display_data",
          "data": {
            "text/plain": [
              "<IPython.core.display.HTML object>"
            ],
            "text/html": [
              "\n",
              "<style>\n",
              "    /* Turns off some styling */\n",
              "    progress {\n",
              "        /* gets rid of default border in Firefox and Opera. */\n",
              "        border: none;\n",
              "        /* Needs to be in here for Safari polyfill so background images work as expected. */\n",
              "        background-size: auto;\n",
              "    }\n",
              "    progress:not([value]), progress:not([value])::-webkit-progress-bar {\n",
              "        background: repeating-linear-gradient(45deg, #7e7e7e, #7e7e7e 10px, #5c5c5c 10px, #5c5c5c 20px);\n",
              "    }\n",
              "    .progress-bar-interrupted, .progress-bar-interrupted::-webkit-progress-bar {\n",
              "        background: #F44336;\n",
              "    }\n",
              "</style>\n"
            ]
          },
          "metadata": {}
        },
        {
          "output_type": "display_data",
          "data": {
            "text/plain": [
              "<IPython.core.display.HTML object>"
            ],
            "text/html": []
          },
          "metadata": {}
        },
        {
          "output_type": "display_data",
          "data": {
            "text/plain": [
              "<Figure size 432x288 with 1 Axes>"
            ],
            "image/png": "[encoded data removed]"
          },
          "metadata": {
            "needs_background": "light"
          }
        }
      ]
    },
    {
      "cell_type": "code",
      "source": [
        "learn.fine_tune(4, best_learning_rate[0])"
      ],
      "metadata": {
        "colab": {
          "base_uri": "https://localhost:8080/",
          "height": 239
        },
        "id": "ha1v-QqUivqO",
        "outputId": "d6e5626a-0f53-4c15-81c3-aba537ead639"
      },
      "execution_count": 21,
      "outputs": [
        {
          "output_type": "display_data",
          "data": {
            "text/plain": [
              "<IPython.core.display.HTML object>"
            ],
            "text/html": [
              "\n",
              "<style>\n",
              "    /* Turns off some styling */\n",
              "    progress {\n",
              "        /* gets rid of default border in Firefox and Opera. */\n",
              "        border: none;\n",
              "        /* Needs to be in here for Safari polyfill so background images work as expected. */\n",
              "        background-size: auto;\n",
              "    }\n",
              "    progress:not([value]), progress:not([value])::-webkit-progress-bar {\n",
              "        background: repeating-linear-gradient(45deg, #7e7e7e, #7e7e7e 10px, #5c5c5c 10px, #5c5c5c 20px);\n",
              "    }\n",
              "    .progress-bar-interrupted, .progress-bar-interrupted::-webkit-progress-bar {\n",
              "        background: #F44336;\n",
              "    }\n",
              "</style>\n"
            ]
          },
          "metadata": {}
        },
        {
          "output_type": "display_data",
          "data": {
            "text/plain": [
              "<IPython.core.display.HTML object>"
            ],
            "text/html": [
              "<table border=\"1\" class=\"dataframe\">\n",
              "  <thead>\n",
              "    <tr style=\"text-align: left;\">\n",
              "      <th>epoch</th>\n",
              "      <th>train_loss</th>\n",
              "      <th>valid_loss</th>\n",
              "      <th>accuracy</th>\n",
              "      <th>time</th>\n",
              "    </tr>\n",
              "  </thead>\n",
              "  <tbody>\n",
              "    <tr>\n",
              "      <td>0</td>\n",
              "      <td>0.525466</td>\n",
              "      <td>0.357867</td>\n",
              "      <td>0.872370</td>\n",
              "      <td>02:28</td>\n",
              "    </tr>\n",
              "  </tbody>\n",
              "</table>"
            ]
          },
          "metadata": {}
        },
        {
          "output_type": "display_data",
          "data": {
            "text/plain": [
              "<IPython.core.display.HTML object>"
            ],
            "text/html": [
              "\n",
              "<style>\n",
              "    /* Turns off some styling */\n",
              "    progress {\n",
              "        /* gets rid of default border in Firefox and Opera. */\n",
              "        border: none;\n",
              "        /* Needs to be in here for Safari polyfill so background images work as expected. */\n",
              "        background-size: auto;\n",
              "    }\n",
              "    progress:not([value]), progress:not([value])::-webkit-progress-bar {\n",
              "        background: repeating-linear-gradient(45deg, #7e7e7e, #7e7e7e 10px, #5c5c5c 10px, #5c5c5c 20px);\n",
              "    }\n",
              "    .progress-bar-interrupted, .progress-bar-interrupted::-webkit-progress-bar {\n",
              "        background: #F44336;\n",
              "    }\n",
              "</style>\n"
            ]
          },
          "metadata": {}
        },
        {
          "output_type": "display_data",
          "data": {
            "text/plain": [
              "<IPython.core.display.HTML object>"
            ],
            "text/html": [
              "<table border=\"1\" class=\"dataframe\">\n",
              "  <thead>\n",
              "    <tr style=\"text-align: left;\">\n",
              "      <th>epoch</th>\n",
              "      <th>train_loss</th>\n",
              "      <th>valid_loss</th>\n",
              "      <th>accuracy</th>\n",
              "      <th>time</th>\n",
              "    </tr>\n",
              "  </thead>\n",
              "  <tbody>\n",
              "    <tr>\n",
              "      <td>0</td>\n",
              "      <td>0.386136</td>\n",
              "      <td>0.279373</td>\n",
              "      <td>0.899787</td>\n",
              "      <td>03:42</td>\n",
              "    </tr>\n",
              "    <tr>\n",
              "      <td>1</td>\n",
              "      <td>0.327572</td>\n",
              "      <td>0.252837</td>\n",
              "      <td>0.909205</td>\n",
              "      <td>03:43</td>\n",
              "    </tr>\n",
              "    <tr>\n",
              "      <td>2</td>\n",
              "      <td>0.288264</td>\n",
              "      <td>0.243409</td>\n",
              "      <td>0.914121</td>\n",
              "      <td>03:43</td>\n",
              "    </tr>\n",
              "    <tr>\n",
              "      <td>3</td>\n",
              "      <td>0.279208</td>\n",
              "      <td>0.241525</td>\n",
              "      <td>0.913621</td>\n",
              "      <td>03:44</td>\n",
              "    </tr>\n",
              "  </tbody>\n",
              "</table>"
            ]
          },
          "metadata": {}
        }
      ]
    },
    {
      "cell_type": "code",
      "source": [
        "learn.show_results()"
      ],
      "metadata": {
        "colab": {
          "base_uri": "https://localhost:8080/",
          "height": 1000
        },
        "id": "8-tFQVFriy7-",
        "outputId": "45727581-ef76-4d59-99df-1d057034177d"
      },
      "execution_count": 22,
      "outputs": [
        {
          "output_type": "display_data",
          "data": {
            "text/plain": [
              "<IPython.core.display.HTML object>"
            ],
            "text/html": [
              "\n",
              "<style>\n",
              "    /* Turns off some styling */\n",
              "    progress {\n",
              "        /* gets rid of default border in Firefox and Opera. */\n",
              "        border: none;\n",
              "        /* Needs to be in here for Safari polyfill so background images work as expected. */\n",
              "        background-size: auto;\n",
              "    }\n",
              "    progress:not([value]), progress:not([value])::-webkit-progress-bar {\n",
              "        background: repeating-linear-gradient(45deg, #7e7e7e, #7e7e7e 10px, #5c5c5c 10px, #5c5c5c 20px);\n",
              "    }\n",
              "    .progress-bar-interrupted, .progress-bar-interrupted::-webkit-progress-bar {\n",
              "        background: #F44336;\n",
              "    }\n",
              "</style>\n"
            ]
          },
          "metadata": {}
        },
        {
          "output_type": "display_data",
          "data": {
            "text/plain": [
              "<IPython.core.display.HTML object>"
            ],
            "text/html": []
          },
          "metadata": {}
        },
        {
          "output_type": "display_data",
          "data": {
            "text/plain": [
              "<IPython.core.display.HTML object>"
            ],
            "text/html": [
              "<table border=\"1\" class=\"dataframe\">\n",
              "  <thead>\n",
              "    <tr style=\"text-align: right;\">\n",
              "      <th></th>\n",
              "      <th>text</th>\n",
              "      <th>category</th>\n",
              "      <th>category_</th>\n",
              "    </tr>\n",
              "  </thead>\n",
              "  <tbody>\n",
              "    <tr>\n",
              "      <th>0</th>\n",
              "      <td>xxbos xxmaj there 's troubling news ( ft subscription xxunk , alternate copy here ) coming from xxmaj japan , where the xxmaj kyoto protocol on xxmaj greenhouse xxmaj emissions was born in 1997 . xxmaj it seems that the xxmaj japanese are n't going to be able to meet their emissions targets specified in the agreement in time . xxmaj indeed , unless they buy a \" large quantity \" of emissions credits from other countries , they 're not going to be able to meet their commitment at all . xxmaj xxunk xxmaj sugiyama , a climate expert at the xxmaj central xxmaj research xxmaj institute of xxmaj electric xxmaj power xxmaj industry in xxmaj japan , said emissions were rising 1 per cent a year due to a larger - than - expected impact from vehicles and households . xxmaj that made it impossible to cut real</td>\n",
              "      <td>4</td>\n",
              "      <td>1</td>\n",
              "    </tr>\n",
              "    <tr>\n",
              "      <th>1</th>\n",
              "      <td>xxbos xxup andover xxmaj coach : xxmaj ken xxmaj xxunk ( ninth year , 37 - 46 - 2 ) . xxmaj last year 's record : 5 - 6 . xxmaj returning starters ( 13 ): xxmaj mike xxmaj xxunk , xxup ot / xxup dt , 6 - 4 , 255 , xxmaj sr . ; xxmaj buddy xxmaj xxunk , xxup wr / xxup s , 6 - 0 , xxunk , xxmaj jr . ; xxmaj john xxmaj fox , xxup wr / xxup db , 5 - 10 , 170 , xxmaj sr . ; xxmaj shaheen xxmaj xxunk , xxup rb / xxup db , 5 - 9 , 177 , xxmaj sr . ; xxmaj mike xxmaj xxunk , g / xxup dt , 6 - 0 , 253 , xxmaj sr . ; xxmaj matt xxmaj xxunk , xxup rb / xxup</td>\n",
              "      <td>2</td>\n",
              "      <td>2</td>\n",
              "    </tr>\n",
              "    <tr>\n",
              "      <th>2</th>\n",
              "      <td>xxbos \\ \\ xxmaj i 've blogged before about how to setup your xxmaj sprint vision phone with their \\ xxunk ( which is a perfect word for 1 / 2 of xxmaj sprints product line ) xxmaj vision xxup ip \\ services . \\ \\ xxmaj most recent phones are capable of acting as a xxup usb modem when connected to your \\ favorite laptop . \\ \\ xxmaj there are a few tricks involved and its mostly a black art . xxmaj to that end xxmaj i 'll \\ quickly review what s necessary to configure xxmaj linux xxunk with a xxmaj nokia xxunk . \\ \\ * xxmaj hardware * \\ \\ xxmaj the first step is to get the right hardware . xxmaj first off do n't start with xxmaj sprint . \\ xxmaj they wo n't acknowledge that this is even possible . \\ \\</td>\n",
              "      <td>4</td>\n",
              "      <td>4</td>\n",
              "    </tr>\n",
              "    <tr>\n",
              "      <th>3</th>\n",
              "      <td>xxbos xxup brighton xxmaj coach : xxmaj james xxmaj philip ( eighth year , 10 - 48 - 2 ) . xxmaj last year 's record : 1 - 8 . xxmaj returning starters ( 5 ): xxmaj donald xxmaj jeffrey , xxup rb - de , 5 - 11 , 190 , xxmaj sr ; xxmaj xxunk jean - bon , xxup db - wr , 5 - 6 , 145 , xxmaj sr . ; xxmaj marvin xxmaj charles , xxup c - lb , 6 - 1 , 200 , xxmaj jr . ; xxmaj jermaine xxmaj bell , xxup rb - lb , 5 - 10 , 185 , xxmaj jr . xxmaj returning letterman : xxmaj xxunk xxmaj bowden , xxup de / xxup te , 6 - 1 , 155 , xxmaj jr . xxmaj strength : xxmaj running game . xxmaj weakness :</td>\n",
              "      <td>2</td>\n",
              "      <td>2</td>\n",
              "    </tr>\n",
              "    <tr>\n",
              "      <th>4</th>\n",
              "      <td>xxbos xxmaj sean xxmaj harrigan was ousted from his post as president of the \\ $ 177 billion xxmaj california xxmaj public xxmaj employees ' xxmaj retirement xxmaj system . xxmaj in a 3 to 2 vote in xxmaj san xxmaj francisco , the xxmaj california state xxmaj personnel xxmaj board pulled xxmaj harrigan from xxmaj calpers , where he had served for five years . xxmaj elected as xxmaj calpers board president in xxmaj february 2003 , xxmaj harrigan is a longtime union official and an advocate for corporate governance reform . xxmaj he persuaded institutional investors to withhold votes for xxmaj walt xxmaj disney 's xxmaj michael xxup d. xxmaj eisner as board chairman , and he led a drive to withhold votes for xxmaj safeway chief executive xxmaj steven xxup a. xxmaj xxunk while the union was on strike against the company . xxmaj ron xxmaj xxunk</td>\n",
              "      <td>1</td>\n",
              "      <td>3</td>\n",
              "    </tr>\n",
              "    <tr>\n",
              "      <th>5</th>\n",
              "      <td>xxbos xxmaj when the alarm goes off today for the players at xxmaj boise xxmaj state and xxmaj san xxmaj jose xxmaj state , they 'll yawn , stretch and xxunk something like , \" it must be noon somewhere . \" xxmaj think television is an innocent xxunk in college sports ? xxmaj if so , hit the xxunk button . xxmaj the xxmaj broncos and xxmaj spartans will kick off their xxmaj western xxmaj athletic xxmaj conference tilt at 9:02 a.m. xxmaj pacific xxmaj time , for the benefit of xxup espn2 . xxmaj to adjust , xxmaj boise xxmaj state xxmaj coach xxmaj dan xxmaj hawkins has had the team up at 5 a.m. all week . \" we 're used to having to play whenever xxup espn wants to cover it , \" xxmaj boise xxmaj state 's xxmaj xxunk xxmaj xxunk told the xxmaj idaho</td>\n",
              "      <td>2</td>\n",
              "      <td>2</td>\n",
              "    </tr>\n",
              "    <tr>\n",
              "      <th>6</th>\n",
              "      <td>xxbos xxup new xxup york - xxmaj jay xxmaj leno 's takeover as host of nbc 's \" tonight \" show in 1992 was fraught with drama and bad feelings , but he 's assured the next transition will be as smooth as his nightly sign - off : \" stay tuned for xxmaj conan . \" xxmaj the comedian and xxup nbc on xxmaj monday chose the 50th anniversary of the first \" tonight \" show to set a special date for the 55th - when xxmaj leno will step down and xxmaj conan o'brien becomes the fifth host of the television institution . xxmaj announcing a transition in five years is odd for any business , let alone one that frequently plans from day - to - day , but xxup nbc was anxious not to lose o'brien …</td>\n",
              "      <td>1</td>\n",
              "      <td>1</td>\n",
              "    </tr>\n",
              "    <tr>\n",
              "      <th>7</th>\n",
              "      <td>xxbos a month ago i was introduced to the works of xxmaj michel xxmaj xxunk . xxmaj in short , i was amazed and tantalized by his short films and music videos . xxmaj even if you have n't heard of him , you 've probably seen his many works in xxmaj gap commercials , various music videos , and the recent movie xxmaj eternal xxmaj sunshine of the xxmaj spotless xxmaj mind . xxmaj many of his works explode with visual elements that , when taken alone , are simple and mundane . xxmaj however , under his masterful guidance , these elements come together to form a highly xxunk visual experience . xxmaj he never ceases to push visual technologies and challenge our ideas about the visual medium .</td>\n",
              "      <td>4</td>\n",
              "      <td>4</td>\n",
              "    </tr>\n",
              "    <tr>\n",
              "      <th>8</th>\n",
              "      <td>xxbos businessweek xxmaj online - xxmaj the announcement sent ripples of anxiety through the tech world . xxmaj on xxmaj sept . 15 , xxup j.p . xxmaj morgan xxmaj chase &amp; xxmaj co. said that it was terminating a seven - year , $ 5 billion technology - outsourcing deal with xxup ibm . xxmaj for many , it 's an article of faith that corporations will gradually hand off ever more of their technology operations to big service providers such as xxup ibm , xxmaj accenture , and xxmaj electronic xxmaj data xxmaj systems . xxmaj yet here was the nation 's second - largest bank taking its tech back because it was strategically too important to be left to an outsider . …</td>\n",
              "      <td>4</td>\n",
              "      <td>4</td>\n",
              "    </tr>\n",
              "  </tbody>\n",
              "</table>"
            ]
          },
          "metadata": {}
        }
      ]
    },
    {
      "cell_type": "code",
      "source": [
        "learn.predict(\"The town - which sits in the Donetsk region and had a pre-war population of 70,000 - has been the centre of Russian attacks for months.\")"
      ],
      "metadata": {
        "colab": {
          "base_uri": "https://localhost:8080/",
          "height": 34
        },
        "id": "tbILtnCei2U9",
        "outputId": "d73af5af-320e-44bf-8e62-04343c687421"
      },
      "execution_count": 23,
      "outputs": [
        {
          "output_type": "display_data",
          "data": {
            "text/plain": [
              "<IPython.core.display.HTML object>"
            ],
            "text/html": [
              "\n",
              "<style>\n",
              "    /* Turns off some styling */\n",
              "    progress {\n",
              "        /* gets rid of default border in Firefox and Opera. */\n",
              "        border: none;\n",
              "        /* Needs to be in here for Safari polyfill so background images work as expected. */\n",
              "        background-size: auto;\n",
              "    }\n",
              "    progress:not([value]), progress:not([value])::-webkit-progress-bar {\n",
              "        background: repeating-linear-gradient(45deg, #7e7e7e, #7e7e7e 10px, #5c5c5c 10px, #5c5c5c 20px);\n",
              "    }\n",
              "    .progress-bar-interrupted, .progress-bar-interrupted::-webkit-progress-bar {\n",
              "        background: #F44336;\n",
              "    }\n",
              "</style>\n"
            ]
          },
          "metadata": {}
        },
        {
          "output_type": "display_data",
          "data": {
            "text/plain": [
              "<IPython.core.display.HTML object>"
            ],
            "text/html": []
          },
          "metadata": {}
        },
        {
          "output_type": "execute_result",
          "data": {
            "text/plain": [
              "('1', tensor(0), tensor([0.9525, 0.0056, 0.0350, 0.0069]))"
            ]
          },
          "metadata": {},
          "execution_count": 23
        }
      ]
    },
    {
      "cell_type": "code",
      "source": [
        "learn.predict(\"Bruce Lehrmann: Australia parliament rape trial abandoned over juror 'misconduct\")"
      ],
      "metadata": {
        "colab": {
          "base_uri": "https://localhost:8080/",
          "height": 34
        },
        "id": "es13BAwai4YV",
        "outputId": "5f62ad50-7bac-454d-a68d-b6dbf72249f0"
      },
      "execution_count": 24,
      "outputs": [
        {
          "output_type": "display_data",
          "data": {
            "text/plain": [
              "<IPython.core.display.HTML object>"
            ],
            "text/html": [
              "\n",
              "<style>\n",
              "    /* Turns off some styling */\n",
              "    progress {\n",
              "        /* gets rid of default border in Firefox and Opera. */\n",
              "        border: none;\n",
              "        /* Needs to be in here for Safari polyfill so background images work as expected. */\n",
              "        background-size: auto;\n",
              "    }\n",
              "    progress:not([value]), progress:not([value])::-webkit-progress-bar {\n",
              "        background: repeating-linear-gradient(45deg, #7e7e7e, #7e7e7e 10px, #5c5c5c 10px, #5c5c5c 20px);\n",
              "    }\n",
              "    .progress-bar-interrupted, .progress-bar-interrupted::-webkit-progress-bar {\n",
              "        background: #F44336;\n",
              "    }\n",
              "</style>\n"
            ]
          },
          "metadata": {}
        },
        {
          "output_type": "display_data",
          "data": {
            "text/plain": [
              "<IPython.core.display.HTML object>"
            ],
            "text/html": []
          },
          "metadata": {}
        },
        {
          "output_type": "execute_result",
          "data": {
            "text/plain": [
              "('1', tensor(0), tensor([0.8740, 0.0066, 0.0508, 0.0686]))"
            ]
          },
          "metadata": {},
          "execution_count": 24
        }
      ]
    },
    {
      "cell_type": "code",
      "source": [
        "classif_interp = ClassificationInterpretation.from_learner(learn)\n",
        "classif_interp.plot_confusion_matrix()"
      ],
      "metadata": {
        "colab": {
          "base_uri": "https://localhost:8080/",
          "height": 311
        },
        "id": "1Ijj6vxui6Hu",
        "outputId": "3e35984f-121e-43eb-d496-804f89aae7e1"
      },
      "execution_count": 25,
      "outputs": [
        {
          "output_type": "display_data",
          "data": {
            "text/plain": [
              "<IPython.core.display.HTML object>"
            ],
            "text/html": [
              "\n",
              "<style>\n",
              "    /* Turns off some styling */\n",
              "    progress {\n",
              "        /* gets rid of default border in Firefox and Opera. */\n",
              "        border: none;\n",
              "        /* Needs to be in here for Safari polyfill so background images work as expected. */\n",
              "        background-size: auto;\n",
              "    }\n",
              "    progress:not([value]), progress:not([value])::-webkit-progress-bar {\n",
              "        background: repeating-linear-gradient(45deg, #7e7e7e, #7e7e7e 10px, #5c5c5c 10px, #5c5c5c 20px);\n",
              "    }\n",
              "    .progress-bar-interrupted, .progress-bar-interrupted::-webkit-progress-bar {\n",
              "        background: #F44336;\n",
              "    }\n",
              "</style>\n"
            ]
          },
          "metadata": {}
        },
        {
          "output_type": "display_data",
          "data": {
            "text/plain": [
              "<IPython.core.display.HTML object>"
            ],
            "text/html": []
          },
          "metadata": {}
        },
        {
          "output_type": "display_data",
          "data": {
            "text/plain": [
              "<IPython.core.display.HTML object>"
            ],
            "text/html": [
              "\n",
              "<style>\n",
              "    /* Turns off some styling */\n",
              "    progress {\n",
              "        /* gets rid of default border in Firefox and Opera. */\n",
              "        border: none;\n",
              "        /* Needs to be in here for Safari polyfill so background images work as expected. */\n",
              "        background-size: auto;\n",
              "    }\n",
              "    progress:not([value]), progress:not([value])::-webkit-progress-bar {\n",
              "        background: repeating-linear-gradient(45deg, #7e7e7e, #7e7e7e 10px, #5c5c5c 10px, #5c5c5c 20px);\n",
              "    }\n",
              "    .progress-bar-interrupted, .progress-bar-interrupted::-webkit-progress-bar {\n",
              "        background: #F44336;\n",
              "    }\n",
              "</style>\n"
            ]
          },
          "metadata": {}
        },
        {
          "output_type": "display_data",
          "data": {
            "text/plain": [
              "<IPython.core.display.HTML object>"
            ],
            "text/html": []
          },
          "metadata": {}
        },
        {
          "output_type": "display_data",
          "data": {
            "text/plain": [
              "<Figure size 432x288 with 1 Axes>"
            ],
            "image/png": "[encoded data removed]"
          },
          "metadata": {
            "needs_background": "light"
          }
        }
      ]
    },
    {
      "cell_type": "code",
      "source": [
        "interp = Interpretation.from_learner(learn)\n",
        "interp.plot_top_losses(9, figsize=(15,10))"
      ],
      "metadata": {
        "colab": {
          "base_uri": "https://localhost:8080/",
          "height": 1000
        },
        "id": "Y5w7Z4zHi78e",
        "outputId": "3bea518d-61d1-4d2d-fad6-8ab0dd0be9c1"
      },
      "execution_count": 26,
      "outputs": [
        {
          "output_type": "display_data",
          "data": {
            "text/plain": [
              "<IPython.core.display.HTML object>"
            ],
            "text/html": [
              "\n",
              "<style>\n",
              "    /* Turns off some styling */\n",
              "    progress {\n",
              "        /* gets rid of default border in Firefox and Opera. */\n",
              "        border: none;\n",
              "        /* Needs to be in here for Safari polyfill so background images work as expected. */\n",
              "        background-size: auto;\n",
              "    }\n",
              "    progress:not([value]), progress:not([value])::-webkit-progress-bar {\n",
              "        background: repeating-linear-gradient(45deg, #7e7e7e, #7e7e7e 10px, #5c5c5c 10px, #5c5c5c 20px);\n",
              "    }\n",
              "    .progress-bar-interrupted, .progress-bar-interrupted::-webkit-progress-bar {\n",
              "        background: #F44336;\n",
              "    }\n",
              "</style>\n"
            ]
          },
          "metadata": {}
        },
        {
          "output_type": "display_data",
          "data": {
            "text/plain": [
              "<IPython.core.display.HTML object>"
            ],
            "text/html": []
          },
          "metadata": {}
        },
        {
          "output_type": "display_data",
          "data": {
            "text/plain": [
              "<IPython.core.display.HTML object>"
            ],
            "text/html": [
              "\n",
              "<style>\n",
              "    /* Turns off some styling */\n",
              "    progress {\n",
              "        /* gets rid of default border in Firefox and Opera. */\n",
              "        border: none;\n",
              "        /* Needs to be in here for Safari polyfill so background images work as expected. */\n",
              "        background-size: auto;\n",
              "    }\n",
              "    progress:not([value]), progress:not([value])::-webkit-progress-bar {\n",
              "        background: repeating-linear-gradient(45deg, #7e7e7e, #7e7e7e 10px, #5c5c5c 10px, #5c5c5c 20px);\n",
              "    }\n",
              "    .progress-bar-interrupted, .progress-bar-interrupted::-webkit-progress-bar {\n",
              "        background: #F44336;\n",
              "    }\n",
              "</style>\n"
            ]
          },
          "metadata": {}
        },
        {
          "output_type": "display_data",
          "data": {
            "text/plain": [
              "<IPython.core.display.HTML object>"
            ],
            "text/html": []
          },
          "metadata": {}
        },
        {
          "output_type": "display_data",
          "data": {
            "text/plain": [
              "<IPython.core.display.HTML object>"
            ],
            "text/html": [
              "<table border=\"1\" class=\"dataframe\">\n",
              "  <thead>\n",
              "    <tr style=\"text-align: right;\">\n",
              "      <th></th>\n",
              "      <th>input</th>\n",
              "      <th>target</th>\n",
              "      <th>predicted</th>\n",
              "      <th>probability</th>\n",
              "      <th>loss</th>\n",
              "    </tr>\n",
              "  </thead>\n",
              "  <tbody>\n",
              "    <tr>\n",
              "      <th>0</th>\n",
              "      <td>xxbos xxmaj after many years under the rule of the corrupted government there is a new hope for xxmaj ukraine : the new presidential elections . xxmaj among 28 candidates the 2 primary are the opposition candidate xxmaj victor xxmaj yushchenko ( reformer which served as the xxmaj prime xxmaj minister in the past and was allegedly poisoned 1 month before the first tour of the elections ) and the government 's candidate xxmaj victor xxmaj yanukovich ( twice convicted in the past of rape and organized robbery , currently serving as the xxmaj prime xxmaj minister , having strong ties with mafia clans and holding in iron fist authorities across xxmaj ukraine ) .</td>\n",
              "      <td>4</td>\n",
              "      <td>1</td>\n",
              "      <td>0.9972260594367981</td>\n",
              "      <td>9.162460327148438</td>\n",
              "    </tr>\n",
              "    <tr>\n",
              "      <th>1</th>\n",
              "      <td>xxbos xxmaj forbes.com - xxmaj governments react differently to acts of terror . xxmaj president xxmaj bush took the war against terror on the offensive , to xxmaj afghanistan and xxmaj iraq . xxmaj in xxmaj spain , the newly elected government chose to react to the xxmaj madrid train bombings with xxunk , withdrawing xxmaj spanish troops from xxmaj iraq . xxmaj in xxmaj russia , xxmaj president xxmaj vladimir xxmaj putin has reacted to the xxmaj beslan school massacre by taking yet another step in xxunk political power in the xxmaj kremlin . …</td>\n",
              "      <td>3</td>\n",
              "      <td>1</td>\n",
              "      <td>0.9997443556785583</td>\n",
              "      <td>8.277745246887207</td>\n",
              "    </tr>\n",
              "    <tr>\n",
              "      <th>2</th>\n",
              "      <td>xxbos xxmaj russia said xxmaj thursday that xxmaj china xxmaj petroleum &amp; xxmaj chemical xxmaj corp . , xxmaj asia 's biggest oil refiner , may join xxmaj royal xxmaj dutch / xxmaj shell xxmaj group 's xxmaj xxunk project in the xxmaj pacific and buy liquefied natural gas from the venture 's offshore fields .</td>\n",
              "      <td>4</td>\n",
              "      <td>3</td>\n",
              "      <td>0.9739491939544678</td>\n",
              "      <td>7.890369892120361</td>\n",
              "    </tr>\n",
              "    <tr>\n",
              "      <th>3</th>\n",
              "      <td>xxbos xxup ankara - xxmaj turkish xxmaj prime xxmaj minister xxmaj recep xxmaj tayyip xxmaj erdogan expressed belief on xxmaj saturday that xxmaj turkey 's contributions to world peace and stability would increase if it became a non - permanent member of the xxmaj united xxmaj nations ( un ) xxmaj security xxmaj council .</td>\n",
              "      <td>3</td>\n",
              "      <td>1</td>\n",
              "      <td>0.9994705319404602</td>\n",
              "      <td>7.785283088684082</td>\n",
              "    </tr>\n",
              "    <tr>\n",
              "      <th>4</th>\n",
              "      <td>xxbos xxup ap - xxmaj samuel xxmaj xxunk hears of the unrest in his homeland from storms and political violence , and feels so helpless . xxmaj he has donated generous sums to assist relief efforts in xxmaj haiti , but he has no peace of mind .</td>\n",
              "      <td>2</td>\n",
              "      <td>1</td>\n",
              "      <td>0.9977995753288269</td>\n",
              "      <td>7.644076824188232</td>\n",
              "    </tr>\n",
              "    <tr>\n",
              "      <th>5</th>\n",
              "      <td>xxbos all - star shortstop xxmaj edgar xxmaj renteria told xxmaj the xxmaj boston xxmaj globe he has agreed to a \\ $ 40 million , four - year contract with the xxmaj red xxmaj sox , the paper reported on its xxmaj web site xxmaj wednesday .</td>\n",
              "      <td>1</td>\n",
              "      <td>2</td>\n",
              "      <td>0.9870237112045288</td>\n",
              "      <td>7.6325602531433105</td>\n",
              "    </tr>\n",
              "    <tr>\n",
              "      <th>6</th>\n",
              "      <td>xxbos xxmaj on xxmaj tuesday , millions of xxmaj americans will decide whether xxmaj george xxup w. xxmaj bush or xxmaj john xxup f. xxmaj kerry will be president of the xxmaj united xxmaj states for the next four years .</td>\n",
              "      <td>2</td>\n",
              "      <td>2</td>\n",
              "      <td>0.5986385941505432</td>\n",
              "      <td>7.565502643585205</td>\n",
              "    </tr>\n",
              "    <tr>\n",
              "      <th>7</th>\n",
              "      <td>xxbos xxmaj the gloomy day provided a fitting setting for the xxmaj longhorns , who lost because of a dismal offense and their inability to stop the freshman tailback xxmaj adrian xxmaj peterson .</td>\n",
              "      <td>1</td>\n",
              "      <td>2</td>\n",
              "      <td>0.5986385941505432</td>\n",
              "      <td>7.2442426681518555</td>\n",
              "    </tr>\n",
              "    <tr>\n",
              "      <th>8</th>\n",
              "      <td>xxbos dreamworks , which created box office smash xxmaj shrek , raises \\ $ 812 m from its flotation on the xxmaj new xxmaj york xxmaj stock xxmaj exchange .</td>\n",
              "      <td>1</td>\n",
              "      <td>2</td>\n",
              "      <td>0.5986385941505432</td>\n",
              "      <td>7.152069091796875</td>\n",
              "    </tr>\n",
              "  </tbody>\n",
              "</table>"
            ]
          },
          "metadata": {}
        }
      ]
    }
  ]
}